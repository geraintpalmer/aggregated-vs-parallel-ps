{
 "cells": [
  {
   "cell_type": "markdown",
   "metadata": {},
   "source": [
    "# [1] Check the accuracy of $\\overline{W}(x)$ in a $M/M/1/PS$"
   ]
  },
  {
   "cell_type": "code",
   "execution_count": 13,
   "metadata": {},
   "outputs": [],
   "source": [
    "import sojourn\n",
    "from matplotlib import pyplot as plt"
   ]
  },
  {
   "cell_type": "code",
   "execution_count": 34,
   "metadata": {},
   "outputs": [
    {
     "name": "stdout",
     "output_type": "stream",
     "text": [
      "19\n"
     ]
    }
   ],
   "source": [
    "# Check how W(x=1) varies as we increase infty\n",
    "\n",
    "Ws = []\n",
    "infs = list(range(20))\n",
    "for inf in infs:\n",
    "    mm1ps = sojourn.MM1PS(mu=4, lambda_=3, infty=inf)\n",
    "    Ws += [mm1ps.W(1)]"
   ]
  },
  {
   "cell_type": "code",
   "execution_count": 36,
   "metadata": {},
   "outputs": [
    {
     "data": {
      "image/png": "[encoded data removed]",
      "text/plain": [
       "<Figure size 432x288 with 1 Axes>"
      ]
     },
     "metadata": {
      "needs_background": "light"
     },
     "output_type": "display_data"
    }
   ],
   "source": [
    "plt.plot(infs, Ws)\n",
    "plt.xlabel(r'$\\infty$')\n",
    "plt.ylabel(r'$W(x=1)$');"
   ]
  },
  {
   "cell_type": "markdown",
   "metadata": {},
   "source": [
    "## TODO - check if $\\overline{W}(x)$ maches CIW values in a PS system"
   ]
  },
  {
   "cell_type": "markdown",
   "metadata": {},
   "source": [
    "[1] Masuyama, Hiroyuki, and Tetsuya Takine. \"Sojourn time distribution in a\n",
    "    MAP/M/1 processor-sharing queue.\" Operations Research Letters 31.5 (2003):\n",
    "    406-412.\n"
   ]
  },
  {
   "cell_type": "code",
   "execution_count": null,
   "metadata": {},
   "outputs": [],
   "source": []
  },
  {
   "cell_type": "code",
   "execution_count": null,
   "metadata": {},
   "outputs": [],
   "source": []
  },
  {
   "cell_type": "code",
   "execution_count": null,
   "metadata": {},
   "outputs": [],
   "source": []
  },
  {
   "cell_type": "markdown",
   "metadata": {},
   "source": [
    "# $W(x)$ on a $M_n/M/1/PS$ system"
   ]
  },
  {
   "cell_type": "markdown",
   "metadata": {},
   "source": [
    "In [2] authors state that a single server of a $M/M/R/JSQ/PS$ system behaves as a\n",
    "$M_n/M/1/PS$.\n",
    "\n",
    "Here $M_n$ denotes a Poisson arrival process with state dependant rate.\n",
    "In particular, such a process has arrival rate $\\lambda(n)$ with $n$ being\n",
    "the number of users in the server of interest.\n",
    "\n",
    "The higher the $n$, the lower the arrival rate. As the JSQ policy\n",
    "will not dispatch arrivals there.\n",
    "\n",
    "[2] states that simulation yields\n",
    "$$ \\frac{\\lambda(n)}{\\mu} \\sim \\rho^k,\\quad n\\ge3 $$\n",
    "\n",
    "-----\n",
    "\n",
    "An $M_n$ arrival process is a Markovian process, hence,\n",
    "we use [1] to derive $\\overline{W}(x)$ in a $M_n/M/1/PS$ process."
   ]
  },
  {
   "cell_type": "markdown",
   "metadata": {},
   "source": [
    "## Birth-death process\n",
    "\n",
    "We will mimic how an $M/M/1/PS$ is in [2], to derive the\n",
    "reasoning for our $M_n/M/1/PS$ system.\n",
    "\n",
    "### $M/M/1$\n",
    "According to [3], an $M/M/1$ is a birth-death process.\n",
    "Following the notation of [Section 2 - 3rd paragraph, 2], we have:\n",
    "\n",
    "$$C = -\\lambda I $$\n",
    "$$ D = \\left(\\begin{matrix}\n",
    "    0 & \\lambda & 0 & 0 & \\ldots \\\\\n",
    "    \\mu & -\\mu & \\lambda & 0 & \\ldots\\\\\n",
    "    0 & \\mu & -\\mu & \\lambda & \\ldots\\\\\n",
    "    \\ldots & \\ldots & \\ldots & \\ldots & \\ldots\\\\\n",
    "\\end{matrix}\\right)\n",
    "$$\n",
    "\n",
    "Hence, it satisfies ${\\bf \\pi}(C+D)=0$. With\n",
    "$$ {\\bf \\pi} = (\\pi_0, \\ldots, \\pi_n) $$\n",
    "being the probability of being in state $0,\\ldots,n$.\n",
    "That is, the probability of having $0,\\ldots,n$ users in the system.\n",
    "\n",
    "The generation matrix is $Q=C+D$.\n",
    "\n",
    "### $M/M/1/PS$\n",
    "The generation matrix of the associated birth death process is the same.\n",
    "This is because the CTMC (continious time markov chain) matches.\n",
    "See [Section 22.3, 4]\n",
    "\n",
    "### $M_n/M/1/PS$\n",
    "The only difference with respect to the previous systems,\n",
    "is that the arrival rate depends on the number of users.\n",
    "Hence, one gets:\n",
    "\n",
    "$$C=\\left(\\begin{matrix}\n",
    "    -\\lambda(0) & 0 & 0 & \\ldots\\\\\n",
    "    0 & -\\lambda(1) & 0 & \\ldots\\\\\n",
    "    0 & 0 & -\\lambda(2) & \\ldots\\\\\n",
    "    \\ldots & \\ldots & \\ldots & \\ldots\\\\\n",
    "\\end{matrix}\\right)\n",
    "$$\n",
    "\n",
    "$$D = \\left(\\begin{matrix}\n",
    "    0 & \\lambda(0) & 0 & 0 & \\ldots \\\\\n",
    "    \\mu & -\\mu & \\lambda(1) & 0 & \\ldots\\\\\n",
    "    0 & \\mu & -\\mu & \\lambda(2) & \\ldots\\\\\n",
    "    \\ldots & \\ldots & \\ldots & \\ldots & \\ldots\\\\\n",
    "\\end{matrix}\\right)$$"
   ]
  },
  {
   "cell_type": "markdown",
   "metadata": {},
   "source": [
    "# Computation of $W(x)$\n",
    "\n",
    "## $M/M/1/PS$\n",
    "If we look at [(8),1], we see that the probability of\n",
    "having $n$ customers in the service is\n",
    "$$ \\lambda^{-1}{\\bf \\pi_0 R^nD} $$\n",
    "for the $M/M/1/PS$ this turns out to be\n",
    "$$(1-\\rho)\\rho^n$$\n",
    "that is, the probability of having $n$ users un the system.\n",
    "\n",
    "As a result, [Corollary 2, 1] provides a closed formula\n",
    "for the sojourn time inverse CDF $W(x)=\\mathbb{P}(W>x)$, with $W$ being the soujourn time.\n",
    "\n",
    "----\n",
    "\n",
    "\n",
    "## $M_n/M/1/PS$\n",
    "We now proceed and derive the ${\\bf \\pi_0}$, the probability of having 0 users.\n",
    "\n",
    "We have this CTMC\n",
    "```txt\n",
    "   __  λ(0)__   __  λ(1)__ \n",
    "  /          \\./          \\.\n",
    " 0            1            2   ....\n",
    "  \\.____μ____/ \\.____μ____/\n",
    "```\n",
    "hence:\n",
    "$$\n",
    "{\\bf \\pi_{n+1}} \\lambda(0) = {\\bf \\pi_n} \\mu\n",
    "$$\n",
    "Thus, we have:\n",
    "$$\n",
    "{\\bf \\pi_{n+1}}  = {\\bf \\pi_0} \\frac{\\prod_{i=0}^n \\lambda(i)}{\\mu^n}\n",
    "$$\n",
    "and\n",
    "$$\n",
    "1 = \\sum_n^\\infty {\\bf \\pi_n} = \\sum_n^\\infty {\\bf \\pi_0}\\frac{\\prod_{i=0}^n \\lambda(i)}{\\mu^n}\n",
    "$$\n",
    "which gives us:\n",
    "$$\n",
    "{\\bf \\pi_0} = \\left[ \\sum_n^\\infty\\frac{\\prod_{i=0}^n \\lambda(i)}{\\mu^n} \\right]^{-1}\n",
    "$$\n",
    "\n",
    "-----\n",
    "\n",
    "As a result we can derive ${\\bf \\pi_n}$ for our $M_n/M/1/PS$ system using the\n",
    "equations above. And substitute the term $$ \\lambda^{-1}{\\bf \\pi_0 R^nD} $$\n",
    "of [(8),1] by ${\\bf \\pi_n}$\n",
    "\n",
    "-----\n",
    "\n",
    "The only thing left is to compute $h_{n,k+1}$ as it appears\n",
    "in [Corollary 2, 1].\n",
    "\n",
    "Based on [(9),1], and [Corollary 2,1] I think that the expression is:\n",
    "\n",
    "$$ h_{n,k+1}=\\frac{n}{n+1}\\frac{\\mu}{\\lambda'+\\mu} h_{n-1,k} + \\frac{\\lambda(n)}{\\lambda'+\\mu}h_{n+1,k}$$\n",
    "with $\\lambda'=\\max \\{\\lambda(i)\\}_i^\\infty$.\n",
    "\n",
    "Note that [(7),2] states that $\\lambda(n)$ stabilizes for $n\\ge3$, so we could consider\n",
    "\n",
    "$$\\lambda'=\\frac{\\rho^k}{\\mu}, \\quad \\rho=\\frac{\\lambda}{k\\mu}$$\n",
    "with $k$ being the number of servers in a $M/M/k/JSQ/PS$, and $\\lambda$ the total arrival rate in such system."
   ]
  },
  {
   "cell_type": "markdown",
   "metadata": {},
   "source": [
    "# TODO - @Jorge\n",
    "\n",
    "implement the above to compute $\\overline{W}(x)$ in a $M_n/M/1/PS$ system.\n",
    "\n",
    "Being such system one of the queues of a $M/M/k/JSQ/PS$.\n",
    "\n",
    "And see if it matcehs with simulation"
   ]
  },
  {
   "cell_type": "markdown",
   "metadata": {},
   "source": [
    "[2] Gupta, Varun, et al. \"Analysis of join-the-shortest-queue routing for web server farms.\" Performance Evaluation 64.9-12 (2007): 1062-1081.\n",
    "\n",
    "[3] https://www.cs.cmu.edu/~osogami/thesis/html/node69.html#fig:QBDprocesses\n",
    "\n",
    "[4] Harchol-Balter, Mor. Performance modeling and design of computer systems: queueing theory in action. Cambridge University Press, 2013."
   ]
  }
 ],
 "metadata": {
  "kernelspec": {
   "display_name": "Python 3",
   "language": "python",
   "name": "python3"
  },
  "language_info": {
   "codemirror_mode": {
    "name": "ipython",
    "version": 3
   },
   "file_extension": ".py",
   "mimetype": "text/x-python",
   "name": "python",
   "nbconvert_exporter": "python",
   "pygments_lexer": "ipython3",
   "version": "3.7.3"
  }
 },
 "nbformat": 4,
 "nbformat_minor": 2
}
