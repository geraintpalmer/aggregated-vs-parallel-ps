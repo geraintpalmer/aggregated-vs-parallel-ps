{
 "cells": [
  {
   "cell_type": "code",
   "execution_count": 1,
   "id": "5159243f",
   "metadata": {},
   "outputs": [],
   "source": [
    "import pandas as pd\n",
    "import matplotlib.pyplot as plt"
   ]
  },
  {
   "cell_type": "code",
   "execution_count": 2,
   "id": "54fd6ceb",
   "metadata": {},
   "outputs": [],
   "source": [
    "best = pd.read_csv('best.csv', index_col=0)"
   ]
  },
  {
   "cell_type": "code",
   "execution_count": 3,
   "id": "198df43a",
   "metadata": {},
   "outputs": [],
   "source": [
    "concerned_Rs = [1, 3, 6, 9]\n",
    "concerned_rhos = [0.2, 0.3, 0.4, 0.5, 0.6, 0.7, 0.8]\n",
    "limits = {1:22, 2:22, 3:22, 4:13, 5:7, 6:5, 7:4, 8:3, 9:3, 10:2}"
   ]
  },
  {
   "cell_type": "code",
   "execution_count": 4,
   "id": "dfb5756b",
   "metadata": {},
   "outputs": [],
   "source": [
    "def get_percentiles(R, rho, percentile):\n",
    "    simulation = pd.read_csv(f'sweep-expon/expon-R={R}-rho={rho}.csv', index_col=0)\n",
    "    simulation_percentile = list(simulation[simulation['cdf'] > percentile]['sojourn_time'])[0]\n",
    "    method = list(best[(best['R'] == R) & (best['rho'] == rho)]['best'])[0]\n",
    "    lim = limits[R]\n",
    "    approx_cdf = pd.read_csv(f'sweep/method{method}/mc_limit={lim}-infty=130-R={R}-rho={rho}.csv', index_col=0)\n",
    "    approx_percentile = list(approx_cdf[approx_cdf['cdf'] > percentile]['sojourn_time'])[0]\n",
    "    return simulation_percentile, approx_percentile"
   ]
  },
  {
   "cell_type": "code",
   "execution_count": 5,
   "id": "bcfec318",
   "metadata": {},
   "outputs": [],
   "source": [
    "def get_percentile_error(R, rho, percentile):\n",
    "    simulation_percentile, approx_percentile = get_percentiles(R, rho, percentile)\n",
    "    return abs(simulation_percentile - approx_percentile) / simulation_percentile"
   ]
  },
  {
   "cell_type": "code",
   "execution_count": 6,
   "id": "7bab5089",
   "metadata": {},
   "outputs": [],
   "source": [
    "def make_table_percentiles(concerned_Rs, concerned_rhos, percentile):\n",
    "    table = pd.DataFrame({\n",
    "        f'R={R}': [get_percentiles(R=R, rho=rho, percentile=percentile)[0] for rho in concerned_rhos] for R in concerned_Rs\n",
    "    }, index=[f\"$\\rho = {rho}$\" for rho in concerned_rhos]).round(2)\n",
    "    return table"
   ]
  },
  {
   "cell_type": "code",
   "execution_count": 7,
   "id": "349334f6",
   "metadata": {},
   "outputs": [],
   "source": [
    "def make_table_errors(concerned_Rs, concerned_rhos, percentile):\n",
    "    table = pd.DataFrame({\n",
    "        f'R={R}': [get_percentile_error(R=R, rho=rho, percentile=percentile) for rho in concerned_rhos] for R in concerned_Rs\n",
    "    }, index=[f\"$\\rho = {rho}$\" for rho in concerned_rhos]).round(2)\n",
    "    return table"
   ]
  },
  {
   "cell_type": "markdown",
   "id": "8b5b6403",
   "metadata": {},
   "source": [
    "# 99th Percentile"
   ]
  },
  {
   "cell_type": "code",
   "execution_count": 8,
   "id": "54ca65c7",
   "metadata": {},
   "outputs": [
    {
     "data": {
      "text/html": [
       "<div>\n",
       "<style scoped>\n",
       "    .dataframe tbody tr th:only-of-type {\n",
       "        vertical-align: middle;\n",
       "    }\n",
       "\n",
       "    .dataframe tbody tr th {\n",
       "        vertical-align: top;\n",
       "    }\n",
       "\n",
       "    .dataframe thead th {\n",
       "        text-align: right;\n",
       "    }\n",
       "</style>\n",
       "<table border=\"1\" class=\"dataframe\">\n",
       "  <thead>\n",
       "    <tr style=\"text-align: right;\">\n",
       "      <th></th>\n",
       "      <th>R=1</th>\n",
       "      <th>R=3</th>\n",
       "      <th>R=6</th>\n",
       "      <th>R=9</th>\n",
       "    </tr>\n",
       "  </thead>\n",
       "  <tbody>\n",
       "    <tr>\n",
       "      <th>$\\rho = 0.2$</th>\n",
       "      <td>0.01</td>\n",
       "      <td>0.19</td>\n",
       "      <td>0.22</td>\n",
       "      <td>0.22</td>\n",
       "    </tr>\n",
       "    <tr>\n",
       "      <th>$\\rho = 0.3$</th>\n",
       "      <td>0.03</td>\n",
       "      <td>0.22</td>\n",
       "      <td>0.30</td>\n",
       "      <td>0.31</td>\n",
       "    </tr>\n",
       "    <tr>\n",
       "      <th>$\\rho = 0.4$</th>\n",
       "      <td>0.03</td>\n",
       "      <td>0.24</td>\n",
       "      <td>0.36</td>\n",
       "      <td>0.39</td>\n",
       "    </tr>\n",
       "    <tr>\n",
       "      <th>$\\rho = 0.5$</th>\n",
       "      <td>0.01</td>\n",
       "      <td>0.23</td>\n",
       "      <td>0.38</td>\n",
       "      <td>0.44</td>\n",
       "    </tr>\n",
       "    <tr>\n",
       "      <th>$\\rho = 0.6$</th>\n",
       "      <td>0.02</td>\n",
       "      <td>0.19</td>\n",
       "      <td>0.07</td>\n",
       "      <td>0.09</td>\n",
       "    </tr>\n",
       "    <tr>\n",
       "      <th>$\\rho = 0.7$</th>\n",
       "      <td>0.03</td>\n",
       "      <td>0.07</td>\n",
       "      <td>0.03</td>\n",
       "      <td>0.01</td>\n",
       "    </tr>\n",
       "    <tr>\n",
       "      <th>$\\rho = 0.8$</th>\n",
       "      <td>0.00</td>\n",
       "      <td>0.06</td>\n",
       "      <td>0.05</td>\n",
       "      <td>0.04</td>\n",
       "    </tr>\n",
       "  </tbody>\n",
       "</table>\n",
       "</div>"
      ],
      "text/plain": [
       "               R=1   R=3   R=6   R=9\n",
       "$\\rho = 0.2$  0.01  0.19  0.22  0.22\n",
       "$\\rho = 0.3$  0.03  0.22  0.30  0.31\n",
       "$\\rho = 0.4$  0.03  0.24  0.36  0.39\n",
       "$\\rho = 0.5$  0.01  0.23  0.38  0.44\n",
       "$\\rho = 0.6$  0.02  0.19  0.07  0.09\n",
       "$\\rho = 0.7$  0.03  0.07  0.03  0.01\n",
       "$\\rho = 0.8$  0.00  0.06  0.05  0.04"
      ]
     },
     "execution_count": 8,
     "metadata": {},
     "output_type": "execute_result"
    }
   ],
   "source": [
    "make_table_errors(concerned_Rs, concerned_rhos, 0.99)"
   ]
  },
  {
   "cell_type": "markdown",
   "id": "d2f45862",
   "metadata": {},
   "source": [
    "# 99.9th Percentile"
   ]
  },
  {
   "cell_type": "code",
   "execution_count": 9,
   "id": "3a5ca4cc",
   "metadata": {},
   "outputs": [
    {
     "data": {
      "text/html": [
       "<div>\n",
       "<style scoped>\n",
       "    .dataframe tbody tr th:only-of-type {\n",
       "        vertical-align: middle;\n",
       "    }\n",
       "\n",
       "    .dataframe tbody tr th {\n",
       "        vertical-align: top;\n",
       "    }\n",
       "\n",
       "    .dataframe thead th {\n",
       "        text-align: right;\n",
       "    }\n",
       "</style>\n",
       "<table border=\"1\" class=\"dataframe\">\n",
       "  <thead>\n",
       "    <tr style=\"text-align: right;\">\n",
       "      <th></th>\n",
       "      <th>R=1</th>\n",
       "      <th>R=3</th>\n",
       "      <th>R=6</th>\n",
       "      <th>R=9</th>\n",
       "    </tr>\n",
       "  </thead>\n",
       "  <tbody>\n",
       "    <tr>\n",
       "      <th>$\\rho = 0.2$</th>\n",
       "      <td>0.03</td>\n",
       "      <td>0.24</td>\n",
       "      <td>0.25</td>\n",
       "      <td>0.26</td>\n",
       "    </tr>\n",
       "    <tr>\n",
       "      <th>$\\rho = 0.3$</th>\n",
       "      <td>0.06</td>\n",
       "      <td>0.25</td>\n",
       "      <td>0.34</td>\n",
       "      <td>0.35</td>\n",
       "    </tr>\n",
       "    <tr>\n",
       "      <th>$\\rho = 0.4$</th>\n",
       "      <td>0.10</td>\n",
       "      <td>0.24</td>\n",
       "      <td>0.37</td>\n",
       "      <td>0.42</td>\n",
       "    </tr>\n",
       "    <tr>\n",
       "      <th>$\\rho = 0.5$</th>\n",
       "      <td>0.08</td>\n",
       "      <td>0.22</td>\n",
       "      <td>0.38</td>\n",
       "      <td>0.44</td>\n",
       "    </tr>\n",
       "    <tr>\n",
       "      <th>$\\rho = 0.6$</th>\n",
       "      <td>0.08</td>\n",
       "      <td>0.16</td>\n",
       "      <td>0.01</td>\n",
       "      <td>0.04</td>\n",
       "    </tr>\n",
       "    <tr>\n",
       "      <th>$\\rho = 0.7$</th>\n",
       "      <td>0.08</td>\n",
       "      <td>0.09</td>\n",
       "      <td>0.08</td>\n",
       "      <td>0.04</td>\n",
       "    </tr>\n",
       "    <tr>\n",
       "      <th>$\\rho = 0.8$</th>\n",
       "      <td>0.04</td>\n",
       "      <td>0.11</td>\n",
       "      <td>0.13</td>\n",
       "      <td>0.08</td>\n",
       "    </tr>\n",
       "  </tbody>\n",
       "</table>\n",
       "</div>"
      ],
      "text/plain": [
       "               R=1   R=3   R=6   R=9\n",
       "$\\rho = 0.2$  0.03  0.24  0.25  0.26\n",
       "$\\rho = 0.3$  0.06  0.25  0.34  0.35\n",
       "$\\rho = 0.4$  0.10  0.24  0.37  0.42\n",
       "$\\rho = 0.5$  0.08  0.22  0.38  0.44\n",
       "$\\rho = 0.6$  0.08  0.16  0.01  0.04\n",
       "$\\rho = 0.7$  0.08  0.09  0.08  0.04\n",
       "$\\rho = 0.8$  0.04  0.11  0.13  0.08"
      ]
     },
     "execution_count": 9,
     "metadata": {},
     "output_type": "execute_result"
    }
   ],
   "source": [
    "make_table_errors(concerned_Rs, concerned_rhos, 0.999)"
   ]
  },
  {
   "cell_type": "markdown",
   "id": "bf2aca6c",
   "metadata": {},
   "source": [
    "# 99.99th Percentile"
   ]
  },
  {
   "cell_type": "code",
   "execution_count": 10,
   "id": "f9b29347",
   "metadata": {},
   "outputs": [
    {
     "data": {
      "text/html": [
       "<div>\n",
       "<style scoped>\n",
       "    .dataframe tbody tr th:only-of-type {\n",
       "        vertical-align: middle;\n",
       "    }\n",
       "\n",
       "    .dataframe tbody tr th {\n",
       "        vertical-align: top;\n",
       "    }\n",
       "\n",
       "    .dataframe thead th {\n",
       "        text-align: right;\n",
       "    }\n",
       "</style>\n",
       "<table border=\"1\" class=\"dataframe\">\n",
       "  <thead>\n",
       "    <tr style=\"text-align: right;\">\n",
       "      <th></th>\n",
       "      <th>R=1</th>\n",
       "      <th>R=3</th>\n",
       "      <th>R=6</th>\n",
       "      <th>R=9</th>\n",
       "    </tr>\n",
       "  </thead>\n",
       "  <tbody>\n",
       "    <tr>\n",
       "      <th>$\\rho = 0.2$</th>\n",
       "      <td>0.12</td>\n",
       "      <td>0.18</td>\n",
       "      <td>0.26</td>\n",
       "      <td>0.27</td>\n",
       "    </tr>\n",
       "    <tr>\n",
       "      <th>$\\rho = 0.3$</th>\n",
       "      <td>0.01</td>\n",
       "      <td>0.24</td>\n",
       "      <td>0.32</td>\n",
       "      <td>0.37</td>\n",
       "    </tr>\n",
       "    <tr>\n",
       "      <th>$\\rho = 0.4$</th>\n",
       "      <td>0.08</td>\n",
       "      <td>0.26</td>\n",
       "      <td>0.36</td>\n",
       "      <td>0.44</td>\n",
       "    </tr>\n",
       "    <tr>\n",
       "      <th>$\\rho = 0.5$</th>\n",
       "      <td>0.06</td>\n",
       "      <td>0.13</td>\n",
       "      <td>0.40</td>\n",
       "      <td>0.45</td>\n",
       "    </tr>\n",
       "    <tr>\n",
       "      <th>$\\rho = 0.6$</th>\n",
       "      <td>0.09</td>\n",
       "      <td>0.03</td>\n",
       "      <td>0.03</td>\n",
       "      <td>0.04</td>\n",
       "    </tr>\n",
       "    <tr>\n",
       "      <th>$\\rho = 0.7$</th>\n",
       "      <td>0.04</td>\n",
       "      <td>0.19</td>\n",
       "      <td>0.10</td>\n",
       "      <td>0.06</td>\n",
       "    </tr>\n",
       "    <tr>\n",
       "      <th>$\\rho = 0.8$</th>\n",
       "      <td>0.24</td>\n",
       "      <td>0.15</td>\n",
       "      <td>0.18</td>\n",
       "      <td>0.13</td>\n",
       "    </tr>\n",
       "  </tbody>\n",
       "</table>\n",
       "</div>"
      ],
      "text/plain": [
       "               R=1   R=3   R=6   R=9\n",
       "$\\rho = 0.2$  0.12  0.18  0.26  0.27\n",
       "$\\rho = 0.3$  0.01  0.24  0.32  0.37\n",
       "$\\rho = 0.4$  0.08  0.26  0.36  0.44\n",
       "$\\rho = 0.5$  0.06  0.13  0.40  0.45\n",
       "$\\rho = 0.6$  0.09  0.03  0.03  0.04\n",
       "$\\rho = 0.7$  0.04  0.19  0.10  0.06\n",
       "$\\rho = 0.8$  0.24  0.15  0.18  0.13"
      ]
     },
     "execution_count": 10,
     "metadata": {},
     "output_type": "execute_result"
    }
   ],
   "source": [
    "make_table_errors(concerned_Rs, concerned_rhos, 0.9999)"
   ]
  },
  {
   "cell_type": "code",
   "execution_count": 11,
   "id": "b9bd73bc",
   "metadata": {},
   "outputs": [
    {
     "ename": "NameError",
     "evalue": "name 'make_table' is not defined",
     "output_type": "error",
     "traceback": [
      "\u001b[0;31m---------------------------------------------------------------------------\u001b[0m",
      "\u001b[0;31mNameError\u001b[0m                                 Traceback (most recent call last)",
      "\u001b[0;32m/var/folders/wn/3cxs5bc91hsbl4gwt8j95d0h0000gp/T/ipykernel_21811/3174981007.py\u001b[0m in \u001b[0;36m<module>\u001b[0;34m\u001b[0m\n\u001b[0;32m----> 1\u001b[0;31m \u001b[0mmake_table\u001b[0m\u001b[0;34m(\u001b[0m\u001b[0mconcerned_Rs\u001b[0m\u001b[0;34m,\u001b[0m \u001b[0mconcerned_rhos\u001b[0m\u001b[0;34m,\u001b[0m \u001b[0;36m0.9999\u001b[0m\u001b[0;34m)\u001b[0m\u001b[0;34m.\u001b[0m\u001b[0mto_latex\u001b[0m\u001b[0;34m(\u001b[0m\u001b[0;34m)\u001b[0m\u001b[0;34m\u001b[0m\u001b[0;34m\u001b[0m\u001b[0m\n\u001b[0m",
      "\u001b[0;31mNameError\u001b[0m: name 'make_table' is not defined"
     ]
    }
   ],
   "source": [
    "make_table(concerned_Rs, concerned_rhos, 0.9999).to_latex()"
   ]
  },
  {
   "cell_type": "code",
   "execution_count": null,
   "id": "19996100",
   "metadata": {},
   "outputs": [],
   "source": [
    "make_table_percentiles(concerned_Rs, concerned_rhos, 0.9999)"
   ]
  },
  {
   "cell_type": "code",
   "execution_count": null,
   "id": "ffdb2d90",
   "metadata": {},
   "outputs": [],
   "source": []
  }
 ],
 "metadata": {
  "kernelspec": {
   "display_name": "Python 3 (ipykernel)",
   "language": "python",
   "name": "python3"
  },
  "language_info": {
   "codemirror_mode": {
    "name": "ipython",
    "version": 3
   },
   "file_extension": ".py",
   "mimetype": "text/x-python",
   "name": "python",
   "nbconvert_exporter": "python",
   "pygments_lexer": "ipython3",
   "version": "3.7.3"
  }
 },
 "nbformat": 4,
 "nbformat_minor": 5
}
