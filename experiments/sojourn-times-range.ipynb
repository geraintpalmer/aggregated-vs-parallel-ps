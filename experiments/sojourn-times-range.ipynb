{
 "cells": [
  {
   "cell_type": "markdown",
   "metadata": {},
   "source": [
    "## Find the range $W\\in[0,?]$\n",
    "\n",
    "In this notebook we find the range of values of the\n",
    "sojourn waiting time $W$ given $\\lambda, \\mu$.\n",
    "\n",
    "For experiments we take unitary value of\n",
    "$$ \\mu = 1 \\frac{user}{time\\ unit} $$\n",
    "and vary $\\lambda$ so $\\rho<1$."
   ]
  },
  {
   "cell_type": "code",
   "execution_count": 7,
   "metadata": {},
   "outputs": [
    {
     "name": "stdout",
     "output_type": "stream",
     "text": [
      "λ=0.99, μ=1, simulation=19  \r"
     ]
    }
   ],
   "source": [
    "import sys\n",
    "sys.path.append(\"..\")\n",
    "import jsq_ps.models as jsq\n",
    "\n",
    "\n",
    "R = 1\n",
    "max_time = 4000\n",
    "warmup = 200\n",
    "mu = 1\n",
    "infty = 130\n",
    "num_repetitions = 20\n",
    "lambdas = [n/100 for n in range(1, 100)]\n",
    "max_sojourns = [-1 for _ in range(len(lambdas))]\n",
    "\n",
    "\n",
    "i = 0\n",
    "for lambda_ in lambdas:\n",
    "    max_sojourn = -1\n",
    "    \n",
    "    for _ in range(num_repetitions):\n",
    "        print(f'λ={lambda_:.2f}, μ={mu}, simulation={_}  ', end='\\r')\n",
    "        S = jsq.Simulation(lambda_, mu, R, max_time, warmup, ps_bar=False)\n",
    "        S.run(0)\n",
    "        max_service_time = max([r.service_time for r in S.recs])\n",
    "        max_sojourn = max_service_time if max_service_time > max_sojourn else max_sojourn\n",
    "\n",
    "    max_sojourns[i] = max_sojourn\n",
    "    i += 1"
   ]
  },
  {
   "cell_type": "code",
   "execution_count": 20,
   "metadata": {},
   "outputs": [
    {
     "name": "stdout",
     "output_type": "stream",
     "text": [
      "The maximum sojourn time is W=182.32, when ρ=0.99\n"
     ]
    },
    {
     "data": {
      "image/png": "[encoded data removed]",
      "text/plain": [
       "<Figure size 432x288 with 1 Axes>"
      ]
     },
     "metadata": {
      "needs_background": "light"
     },
     "output_type": "display_data"
    }
   ],
   "source": [
    "from matplotlib import pyplot as plt\n",
    "\n",
    "\n",
    "plt.plot(lambdas, max_sojourns, lw=10)\n",
    "plt.grid()\n",
    "plt.xlabel(r'$\\rho$')\n",
    "plt.ylabel(r'$W_{\\max}$ [time units]');\n",
    "\n",
    "print(f'The maximum sojourn time is W={max_sojourns[-1]:.2f}, when ρ={lambdas[-1]}')"
   ]
  }
 ],
 "metadata": {
  "kernelspec": {
   "display_name": "Python 3",
   "language": "python",
   "name": "python3"
  },
  "language_info": {
   "codemirror_mode": {
    "name": "ipython",
    "version": 3
   },
   "file_extension": ".py",
   "mimetype": "text/x-python",
   "name": "python",
   "nbconvert_exporter": "python",
   "pygments_lexer": "ipython3",
   "version": "3.7.5"
  }
 },
 "nbformat": 4,
 "nbformat_minor": 2
}
